{
  "nbformat": 4,
  "nbformat_minor": 0,
  "metadata": {
    "colab": {
      "provenance": [],
      "authorship_tag": "ABX9TyOwxEw/cWNYb6XPbgwaCkVK",
      "include_colab_link": true
    },
    "kernelspec": {
      "name": "python3",
      "display_name": "Python 3"
    },
    "language_info": {
      "name": "python"
    }
  },
  "cells": [
    {
      "cell_type": "markdown",
      "metadata": {
        "id": "view-in-github",
        "colab_type": "text"
      },
      "source": [
        "<a href=\"https://colab.research.google.com/github/neil891024/News_Crawler/blob/main/03_jieba_arc_string.ipynb\" target=\"_parent\"><img src=\"https://colab.research.google.com/assets/colab-badge.svg\" alt=\"Open In Colab\"/></a>"
      ]
    },
    {
      "cell_type": "code",
      "execution_count": null,
      "metadata": {
        "id": "Q8NVJlunljxm"
      },
      "outputs": [],
      "source": [
        "import requests\n",
        "from bs4 import BeautifulSoup\n",
        "\n",
        "# 利用 requests 對 API 來源發送一個請求\n",
        "response = requests.get('https://udn.com/news/breaknews/1')\n",
        "soup = BeautifulSoup(response.text)\n",
        "\n",
        "news =[]\n",
        "\n",
        "for link in soup.find_all('h3', class_='rounded-thumb__title')[:4]:\n",
        "    news_url = link.a['href']\n",
        "    news_response = requests.get('https://udn.com' + news_url)\n",
        "    news_soup = BeautifulSoup(news_response.text, \"html.parser\")\n",
        "    news_content = news_soup.find('div', class_='article-content__paragraph').text.strip().replace('\\n', ' ')\n",
        "    news.append(news_content)"
      ]
    },
    {
      "cell_type": "code",
      "source": [
        "import jieba\n",
        "\n",
        "token = []\n",
        "for d in news:\n",
        "  token.append(list(jieba.cut(d,HMM=False))) # token = d 字串斷詞結果\n",
        "\n",
        "word_count = {}\n",
        "for i in token:\n",
        "  for j in i:\n",
        "    if j not in word_count:\n",
        "      word_count[j] = 0\n",
        "    if j in word_count:\n",
        "      word_count[j] += 1\n",
        "\n",
        "word_count = dict(sorted(word_count.items(), key=lambda item: item[1], reverse=True))\n",
        "# 依照出現次數由多到少進行排序\n",
        "\n",
        "#print(word_count)\n"
      ],
      "metadata": {
        "id": "kxrmkyf7lrrz"
      },
      "execution_count": null,
      "outputs": []
    }
  ]
}